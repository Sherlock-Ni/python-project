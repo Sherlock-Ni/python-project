{
 "cells": [
  {
   "cell_type": "code",
   "execution_count": 1,
   "metadata": {
    "collapsed": true
   },
   "outputs": [
    {
     "output_type": "stream",
     "name": "stdout",
     "text": "Hello World!\n"
    }
   ],
   "source": [
    "print('Hello World!')\n",
    "\n"
   ]
  },
  {
   "cell_type": "code",
   "execution_count": 2,
   "metadata": {},
   "outputs": [
    {
     "output_type": "execute_result",
     "data": {
      "text/plain": "'c:\\\\Users\\\\17621\\\\Documents\\\\python project\\\\python 自动化\\\\第二部分\\\\第八章'"
     },
     "metadata": {},
     "execution_count": 2
    }
   ],
   "source": [
    "import os\n",
    "\n",
    "os.getcwd()"
   ]
  },
  {
   "cell_type": "code",
   "execution_count": 3,
   "metadata": {},
   "outputs": [],
   "source": [
    "import os\n",
    "os.makedirs(r'.\\test')"
   ]
  },
  {
   "cell_type": "code",
   "execution_count": 5,
   "metadata": {},
   "outputs": [
    {
     "output_type": "execute_result",
     "data": {
      "text/plain": "('calc.exe', 'C:\\\\Windows\\\\System32')"
     },
     "metadata": {},
     "execution_count": 5
    }
   ],
   "source": [
    "import os\n",
    "path = 'C:\\\\Windows\\\\System32\\\\calc.exe'\n",
    "#输出基本名称\n",
    "os.path.basename(path)\n",
    "#输出目录名称\n",
    "os.path.dirname(path)\n",
    "#输出基本名称以及目录名称\n",
    "os.path.split(path)\n",
    "#输出元组\n",
    "(os.path.basename(path), os.path.dirname(path))\n"
   ]
  },
  {
   "cell_type": "code",
   "execution_count": 10,
   "metadata": {},
   "outputs": [
    {
     "output_type": "execute_result",
     "data": {
      "text/plain": "['第七章', '第八章']"
     },
     "metadata": {},
     "execution_count": 10
    }
   ],
   "source": [
    "#获取文件大小\n",
    "os.path.getsize(r'.\\读写文件.ipynb')\n",
    "#返回文件名字符串\n",
    "os.listdir(r'C:\\Users\\17621\\Documents\\python project\\python 自动化\\第二部分')"
   ]
  },
  {
   "cell_type": "code",
   "execution_count": 11,
   "metadata": {},
   "outputs": [
    {
     "output_type": "stream",
     "name": "stdout",
     "text": "40960\n"
    }
   ],
   "source": [
    "totalSize = 0\n",
    "for filename in os.listdir(r'C:\\Users\\17621\\Documents\\python project\\python 自动化'):\n",
    "    totalSize = totalSize + os.path.getsize(os.path.join(r'C:\\Users\\17621\\Documents\\python project\\python 自动化', filename))\n",
    "\n",
    "print(totalSize)\n"
   ]
  },
  {
   "cell_type": "code",
   "execution_count": 16,
   "metadata": {},
   "outputs": [],
   "source": [
    "#打开文件\n",
    "helloFile = open(r'C:\\Users\\17621\\Documents\\python project\\python 自动化\\第二部分\\第八章\\hello.txt',encoding = 'UTF-8')"
   ]
  },
  {
   "cell_type": "code",
   "execution_count": 17,
   "metadata": {},
   "outputs": [
    {
     "output_type": "execute_result",
     "data": {
      "text/plain": "'Hello World!'"
     },
     "metadata": {},
     "execution_count": 17
    }
   ],
   "source": [
    "#读取文件\n",
    "helloContent = helloFile.read()\n",
    "helloContent"
   ]
  },
  {
   "cell_type": "code",
   "execution_count": 18,
   "metadata": {},
   "outputs": [
    {
     "output_type": "execute_result",
     "data": {
      "text/plain": "[\"When, in disgrace with fortune and men's eyes,\\n\",\n 'I all alone beweep mu outcast state,\\n',\n 'And trouble deaf heaven with my bootless cries,\\n',\n 'And look upon myself and cure my fate,']"
     },
     "metadata": {},
     "execution_count": 18
    }
   ],
   "source": [
    "sonneFile = open(r'sonnet29.txt')\n",
    "sonneFile.readlines()\n"
   ]
  },
  {
   "cell_type": "code",
   "execution_count": 20,
   "metadata": {},
   "outputs": [
    {
     "output_type": "execute_result",
     "data": {
      "text/plain": "13"
     },
     "metadata": {},
     "execution_count": 20
    }
   ],
   "source": [
    "baconFile = open('bacon.txt', 'w')\n",
    "baconFile.write('Hello World!\\n')\n"
   ]
  },
  {
   "cell_type": "code",
   "execution_count": 23,
   "metadata": {},
   "outputs": [
    {
     "output_type": "execute_result",
     "data": {
      "text/plain": "25"
     },
     "metadata": {},
     "execution_count": 23
    }
   ],
   "source": [
    "baconFile.close()\n",
    "baconFile = open('bacon.txt', 'a')\n",
    "baconFile.write('Bacon is not a vegatable.')"
   ]
  },
  {
   "cell_type": "code",
   "execution_count": 26,
   "metadata": {},
   "outputs": [
    {
     "output_type": "execute_result",
     "data": {
      "text/plain": "'Hello World!\\nBacon is not a vegatable.'"
     },
     "metadata": {},
     "execution_count": 26
    }
   ],
   "source": [
    "baconFile.close()\n",
    "baconFile = open('bacon.txt')\n",
    "content = baconFile.read()\n",
    "baconFile.close()\n",
    "print(content)\n"
   ]
  },
  {
   "cell_type": "code",
   "execution_count": null,
   "metadata": {},
   "outputs": [],
   "source": []
  }
 ],
 "metadata": {
  "kernelspec": {
   "display_name": "Python 3",
   "language": "python",
   "name": "python3"
  },
  "language_info": {
   "codemirror_mode": {
    "name": "ipython",
    "version": 2
   },
   "file_extension": ".py",
   "mimetype": "text/x-python",
   "name": "python",
   "nbconvert_exporter": "python",
   "pygments_lexer": "ipython2",
   "version": "3.7.7-final"
  }
 },
 "nbformat": 4,
 "nbformat_minor": 0
}