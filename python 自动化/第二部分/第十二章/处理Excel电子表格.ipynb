{
 "cells": [
  {
   "cell_type": "code",
   "execution_count": 1,
   "metadata": {},
   "outputs": [
    {
     "output_type": "execute_result",
     "data": {
      "text/plain": "openpyxl.workbook.workbook.Workbook"
     },
     "metadata": {},
     "execution_count": 1
    }
   ],
   "source": [
    "import openpyxl\n",
    "wb = openpyxl.load_workbook('example.xlsx')\n",
    "type(wb)"
   ]
  },
  {
   "cell_type": "code",
   "execution_count": 2,
   "metadata": {},
   "outputs": [
    {
     "output_type": "execute_result",
     "data": {
      "text/plain": "['Sheet1', 'Sheet2', 'Sheet3']"
     },
     "metadata": {},
     "execution_count": 2
    }
   ],
   "source": [
    "import openpyxl\n",
    "wb = openpyxl.load_workbook('example.xlsx')\n",
    "wb.get_sheet_names()"
   ]
  },
  {
   "cell_type": "code",
   "execution_count": 3,
   "metadata": {},
   "outputs": [
    {
     "output_type": "execute_result",
     "data": {
      "text/plain": "<Worksheet \"Sheet3\">"
     },
     "metadata": {},
     "execution_count": 3
    }
   ],
   "source": [
    "sheet = wb.get_sheet_by_name('Sheet3')\n",
    "sheet"
   ]
  },
  {
   "cell_type": "code",
   "execution_count": 38,
   "metadata": {},
   "outputs": [
    {
     "output_type": "execute_result",
     "data": {
      "text/plain": "<Worksheet \"Sheet1\">"
     },
     "metadata": {},
     "execution_count": 38
    }
   ],
   "source": [
    "anothersheet = wb.active\n",
    "anothersheet"
   ]
  },
  {
   "cell_type": "code",
   "execution_count": 5,
   "metadata": {},
   "outputs": [
    {
     "output_type": "execute_result",
     "data": {
      "text/plain": "datetime.datetime(2015, 4, 5, 13, 34, 2)"
     },
     "metadata": {},
     "execution_count": 5
    }
   ],
   "source": [
    "import openpyxl\n",
    "wb = openpyxl.load_workbook('example.xlsx')\n",
    "sheet = wb.get_sheet_by_name('Sheet1')\n",
    "sheet['A1'].value"
   ]
  },
  {
   "cell_type": "code",
   "execution_count": 7,
   "metadata": {},
   "outputs": [
    {
     "output_type": "execute_result",
     "data": {
      "text/plain": "'Apples'"
     },
     "metadata": {},
     "execution_count": 7
    }
   ],
   "source": [
    "c = sheet['B1']\n",
    "c.value"
   ]
  },
  {
   "cell_type": "code",
   "execution_count": 15,
   "metadata": {},
   "outputs": [
    {
     "output_type": "execute_result",
     "data": {
      "text/plain": "'Row1, Column2 is Apples'"
     },
     "metadata": {},
     "execution_count": 15
    }
   ],
   "source": [
    "'Row' + str(c.row) + ', Column' + str(c.column) + ' is ' + c.value"
   ]
  },
  {
   "cell_type": "code",
   "execution_count": 18,
   "metadata": {},
   "outputs": [
    {
     "output_type": "execute_result",
     "data": {
      "text/plain": "'B1'"
     },
     "metadata": {},
     "execution_count": 18
    }
   ],
   "source": [
    "c.coordinate\n"
   ]
  },
  {
   "cell_type": "code",
   "execution_count": 19,
   "metadata": {},
   "outputs": [
    {
     "output_type": "stream",
     "name": "stdout",
     "text": "1 Apples\n3 Pears\n5 Apples\n7 Strawberries\n"
    }
   ],
   "source": [
    "for i in range(1, 8, 2):\n",
    "    print(i, sheet.cell(row = i, column = 2).value)"
   ]
  },
  {
   "cell_type": "code",
   "execution_count": 27,
   "metadata": {},
   "outputs": [
    {
     "output_type": "stream",
     "name": "stdout",
     "text": "The highest row is 7 and the highest column is 3\n"
    }
   ],
   "source": [
    "import openpyxl\n",
    "wb = openpyxl.load_workbook('example.xlsx')\n",
    "sheet = wb.get_sheet_by_name('Sheet1')\n",
    "print('The highest row is ' + str(int(sheet.max_row)) + ' and ' + 'the highest column is ' + str(int(sheet.max_column)))"
   ]
  },
  {
   "cell_type": "code",
   "execution_count": 28,
   "metadata": {},
   "outputs": [
    {
     "output_type": "stream",
     "name": "stdout",
     "text": "A1 2015-04-05 13:34:02\nB1 Apples\nC1 73\n--------END OF ROW---------\nA2 2015-04-05 03:41:23\nB2 Cherries\nC2 85\n--------END OF ROW---------\nA3 2015-04-06 12:46:51\nB3 Pears\nC3 14\n--------END OF ROW---------\n"
    }
   ],
   "source": [
    "import openpyxl\n",
    "wb = openpyxl.load_workbook('example.xlsx')\n",
    "sheet = wb.get_sheet_by_name('Sheet1')\n",
    "tuple(sheet['A1':'C3'])\n",
    "for rowofcellobjects in sheet['A1' :'C3']:\n",
    "    for cellobject in rowofcellobjects:\n",
    "        print(cellobject.coordinate, cellobject.value)\n",
    "    print('--------END OF ROW---------')"
   ]
  },
  {
   "cell_type": "code",
   "execution_count": 36,
   "metadata": {},
   "outputs": [
    {
     "output_type": "stream",
     "name": "stdout",
     "text": "Apples\nCherries\nPears\nOranges\nApples\nBananas\nStrawberries\n"
    }
   ],
   "source": [
    "import openpyxl\n",
    "wb = openpyxl.load_workbook('example.xlsx')\n",
    "sheet = wb.active\n",
    "for cellobj in sheet['B']:\n",
    "    print(cellobj.value)"
   ]
  },
  {
   "cell_type": "code",
   "execution_count": null,
   "metadata": {},
   "outputs": [],
   "source": []
  }
 ],
 "metadata": {
  "language_info": {
   "codemirror_mode": {
    "name": "ipython",
    "version": 3
   },
   "file_extension": ".py",
   "mimetype": "text/x-python",
   "name": "python",
   "nbconvert_exporter": "python",
   "pygments_lexer": "ipython3",
   "version": "3.7.7-final"
  },
  "orig_nbformat": 2,
  "kernelspec": {
   "name": "python3",
   "display_name": "Python 3"
  }
 },
 "nbformat": 4,
 "nbformat_minor": 2
}