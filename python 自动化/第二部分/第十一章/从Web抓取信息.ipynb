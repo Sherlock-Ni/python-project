{
 "cells": [
  {
   "cell_type": "code",
   "execution_count": 7,
   "metadata": {},
   "outputs": [
    {
     "output_type": "stream",
     "name": "stdout",
     "text": "﻿The Project Gutenberg EBook of Romeo and Juliet, by William Shakespeare\n\n\n*******************************************************************\nTHIS EBOOK WAS ONE OF PROJECT GUTENBERG'S EARLY FILES PRODUCED AT A\nTIME WHEN PROOFING METHODS AND TOO\n"
    }
   ],
   "source": [
    "#用requests.get()函数下载一个网页\n",
    "import requests\n",
    "res = requests.get('https://www.gutenberg.org/cache/epub/1112/pg1112.txt')\n",
    "type(res)\n",
    "res.status_code == requests.codes.ok\n",
    "len(res.text)\n",
    "print(res.text[:250])"
   ]
  },
  {
   "cell_type": "code",
   "execution_count": 8,
   "metadata": {},
   "outputs": [
    {
     "output_type": "stream",
     "name": "stdout",
     "text": "This was problem: 404 Client Error: Not Found for url: http://inventwithpython.com/page_that_does_not_exist\n"
    }
   ],
   "source": [
    "#检查错误\n",
    "import requests\n",
    "res = requests.get('http://inventwithpython.com/page_that_does_not_exist')\n",
    "try:\n",
    "    res.raise_for_status()\n",
    "except Exception as exc:\n",
    "    print('This was problem: %s' %(exc))"
   ]
  },
  {
   "cell_type": "code",
   "execution_count": 1,
   "metadata": {},
   "outputs": [],
   "source": [
    "#将下载的文件保存到硬盘\n",
    "import requests\n",
    "res = requests.get('https://www.gutenberg.org/cache/epub/1112/pg1112.txt')\n",
    "res.raise_for_status()\n",
    "playFile = open('RomeoandJuliet.txt', 'wb')\n",
    "for chunk in res.iter_content(100000):\n",
    "    playFile.write(chunk)\n",
    "playFile.close()"
   ]
  },
  {
   "cell_type": "code",
   "execution_count": 13,
   "metadata": {},
   "outputs": [
    {
     "output_type": "execute_result",
     "data": {
      "text/plain": "179380"
     },
     "metadata": {},
     "execution_count": 13
    }
   ],
   "source": [
    "#获取下载的文件大小\n",
    "import os\n",
    "os.path.getsize('RomeoandJuliet.txt')"
   ]
  },
  {
   "cell_type": "code",
   "execution_count": null,
   "metadata": {},
   "outputs": [],
   "source": []
  }
 ],
 "metadata": {
  "language_info": {
   "codemirror_mode": {
    "name": "ipython",
    "version": 3
   },
   "file_extension": ".py",
   "mimetype": "text/x-python",
   "name": "python",
   "nbconvert_exporter": "python",
   "pygments_lexer": "ipython3",
   "version": "3.7.7-final"
  },
  "orig_nbformat": 2,
  "kernelspec": {
   "name": "python3",
   "display_name": "Python 3"
  }
 },
 "nbformat": 4,
 "nbformat_minor": 2
}